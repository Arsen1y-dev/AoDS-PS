{
 "cells": [
  {
   "cell_type": "markdown",
   "metadata": {},
   "source": [
    "3.5. Потоковый ввод/вывод. Работа с текстовыми файлами. JSON"
   ]
  },
  {
   "cell_type": "markdown",
   "metadata": {},
   "source": [
    "A+B+..."
   ]
  },
  {
   "cell_type": "code",
   "execution_count": null,
   "metadata": {},
   "outputs": [],
   "source": [
    "print(sum(map(int, stdin.read().split())))"
   ]
  },
  {
   "cell_type": "markdown",
   "metadata": {},
   "source": [
    "Средний рост"
   ]
  },
  {
   "cell_type": "code",
   "execution_count": null,
   "metadata": {},
   "outputs": [],
   "source": [
    "from sys import stdin\n",
    "\n",
    "print(round(sum(x := [int(i.split()[2]) - int(i.split()[1]) for i in stdin.readlines()]) / len(x)))"
   ]
  },
  {
   "cell_type": "markdown",
   "metadata": {},
   "source": [
    "Без комментариев 2.0"
   ]
  },
  {
   "cell_type": "code",
   "execution_count": null,
   "metadata": {},
   "outputs": [],
   "source": [
    "from sys import stdin\n",
    "\n",
    "for i in stdin.readlines():\n",
    "    if not i.startswith('#'):\n",
    "        print(i[:i.find('#')])"
   ]
  },
  {
   "cell_type": "markdown",
   "metadata": {},
   "source": [
    "Обновление данных"
   ]
  },
  {
   "cell_type": "code",
   "execution_count": null,
   "metadata": {},
   "outputs": [],
   "source": [
    "import json  \n",
    "import sys  \n",
    "\n",
    "def update_json(file_name):\n",
    "    try:\n",
    "        with open(file_name, 'r') as f:\n",
    "            # Загружаем JSON данные из файла в словарь data\n",
    "            data = json.load(f)\n",
    "    except FileNotFoundError:\n",
    "        # Если файл не найден, создаем пустой словарь. Это позволяет продолжить работу программы и добавить данные в новый файл.\n",
    "        data = {}\n",
    "\n",
    "    # Перебираем строки из стандартного потока ввода (stdin)\n",
    "    for line in sys.stdin:\n",
    "        # Удаляем лишние пробелы с начала и конца строки\n",
    "        line = line.strip()\n",
    "        # Если строка пустая, завершаем цикл\n",
    "        if line == \"\":\n",
    "            break\n",
    "        # Разделяем строку на ключ и значение по разделителю \"==\"\n",
    "        key, value = line.split(\"==\")\n",
    "        # Удаляем лишние пробелы с начала и конца ключа и значения\n",
    "        # и обновляем словарь data\n",
    "        data[key.strip()] = value.strip()\n",
    "\n",
    "    # Открываем файл для записи\n",
    "    with open(file_name, 'w') as f:\n",
    "        # Записываем обновленный словарь data в файл в формате JSON\n",
    "        # с отступами и без экранирования unicode символов\n",
    "        json.dump(data, f, indent=4, ensure_ascii=False)\n",
    "\n",
    "\n",
    "if __name__ == \"__main__\":\n",
    "    file_name = input(\"Введите имя файла: \")\n",
    "    update_json(file_name)\n",
    "    print(f\"Данные в файле {file_name} обновлены.\")"
   ]
  },
  {
   "cell_type": "markdown",
   "metadata": {},
   "source": [
    "Слияние данных"
   ]
  },
  {
   "cell_type": "code",
   "execution_count": 6,
   "metadata": {},
   "outputs": [
    {
     "name": "stdout",
     "output_type": "stream",
     "text": [
      "Данные в файле users.json обновлены.\n"
     ]
    }
   ],
   "source": [
    "import json  # Импортируем модуль json для работы с JSON данными\n",
    "\n",
    "def update_users(users_file, updates_file):\n",
    "    # Пытаемся открыть файл с исходными данными о пользователях\n",
    "    # для чтения. Если файл не найден, создаем пустой список.\n",
    "    try:\n",
    "        with open(users_file, 'r') as f:\n",
    "            users = json.load(f)\n",
    "    except FileNotFoundError:\n",
    "        users = []\n",
    "\n",
    "    # Пытаемся открыть файл с обновлениями для чтения.\n",
    "    # Если файл не найден, создаем пустой список.\n",
    "    try:\n",
    "        with open(updates_file, 'r') as f:\n",
    "            updates = json.load(f)\n",
    "    except FileNotFoundError:\n",
    "        updates = []\n",
    "\n",
    "    # Создаем пустой словарь, который будет хранить обновленные данные\n",
    "    # о пользователях.\n",
    "    updated_users = {}\n",
    "\n",
    "    # Перебираем всех пользователей из исходного списка.\n",
    "    # Добавляем каждого пользователя в словарь updated_users,\n",
    "    # используя его имя в качестве ключа, а сам объект пользователя\n",
    "    # - в качестве значения, удаляя поле \"name\".\n",
    "    for user in users:\n",
    "        if user[\"name\"] not in updated_users:\n",
    "            # for k, v in user.items(): Эта часть перебирает все пары ключ-значение (key-value) из объекта user.\n",
    "            updated_users[user[\"name\"]] = {k: v for k, v in user.items() if k != \"name\"}\n",
    "\n",
    "    # Перебираем все обновления.\n",
    "    for update in updates:\n",
    "        name = update[\"name\"]  # Извлекаем имя пользователя из обновления.\n",
    "\n",
    "        # Если пользователь с таким именем уже есть в словаре updated_users,\n",
    "        # то перебираем все ключи-значения в обновлении.\n",
    "        if name in updated_users:\n",
    "            for key, value in update.items():\n",
    "                # Если ключ не равен \"name\" и либо отсутствует в данных\n",
    "                # пользователя, либо значение в обновлении больше, чем\n",
    "                # текущее значение в данных пользователя, то обновляем\n",
    "                # значение в словаре updated_users.\n",
    "                if key != \"name\" and (key not in updated_users[name] or value > updated_users[name][key]):\n",
    "                    updated_users[name][key] = value\n",
    "\n",
    "    # Открываем файл с исходными данными для записи.\n",
    "    with open(users_file, 'w') as f:\n",
    "        # Записываем обновленный словарь updated_users в файл в формате JSON\n",
    "        # с отступами 4 для лучшей читаемости.\n",
    "        json.dump(updated_users, f, indent=4)\n",
    "\n",
    "if __name__ == \"__main__\":\n",
    "    users_file = input(\"Введите имя файла с данными о пользователях: \")\n",
    "    updates_file = input(\"Введите имя файла с обновлениями: \")\n",
    "    update_users(users_file, updates_file)\n",
    "    print(f\"Данные в файле {users_file} обновлены.\")"
   ]
  },
  {
   "cell_type": "markdown",
   "metadata": {},
   "source": [
    "Поставь себя на моё место"
   ]
  },
  {
   "cell_type": "code",
   "execution_count": null,
   "metadata": {},
   "outputs": [],
   "source": [
    "import json  # Импортируем модуль для работы с JSON данными\n",
    "\n",
    "def score_solution():\n",
    "    \"\"\"\n",
    "    Функция для подсчета баллов за решение, основываясь на данных из scoring.json\n",
    "    \"\"\"\n",
    "    with open('scoring.json', 'r') as f:  # Открываем файл scoring.json для чтения\n",
    "        scoring_data = json.load(f)  # Загружаем данные из JSON файла в переменную scoring_data\n",
    "\n",
    "    total_score = 0  # Инициализируем total_score - общий балл за решение\n",
    "\n",
    "    # Перебираем каждую группу тестов в scoring_data\n",
    "    for group in scoring_data:\n",
    "        group_score = 0  # Инициализируем group_score - балл за текущую группу тестов\n",
    "        group_passed = True  # Инициализируем group_passed - флаг, пройдена ли группа тестов\n",
    "\n",
    "        # Перебираем каждый тест в текущей группе\n",
    "        for test in group['tests']:\n",
    "            answer = input()  # Получаем ответ от пользователя\n",
    "            if answer == test['pattern']:  # Проверяем, соответствует ли ответ ожидаемому шаблону\n",
    "                # Если ответ верный, увеличиваем group_score на часть баллов за группу, \n",
    "                # пропорционально количеству тестов в группе\n",
    "                group_score += group['points'] // len(group['tests'])  \n",
    "            else:\n",
    "                group_passed = False  # Если ответ неверный, устанавливаем group_passed в False\n",
    "\n",
    "        # Если группа тестов пройдена, добавляем полные баллы за группу к total_score\n",
    "        if group_passed:\n",
    "            total_score += group['points']\n",
    "        # Иначе добавляем набранные баллы за группу к total_score\n",
    "        else:\n",
    "            total_score += group_score\n",
    "\n",
    "    return total_score  # Возвращаем общий балл за решение\n",
    "\n",
    "\n",
    "if __name__ == \"__main__\":  # Проверяем, запускается ли скрипт как основной\n",
    "    print(score_solution())  # Вызываем функцию score_solution() и выводим результат"
   ]
  },
  {
   "cell_type": "markdown",
   "metadata": {},
   "source": [
    "Сколько вешать в байтах?"
   ]
  },
  {
   "cell_type": "code",
   "execution_count": null,
   "metadata": {},
   "outputs": [],
   "source": [
    "import os\n",
    "\n",
    "size = os.path.getsize(input())\n",
    "if size > 1024**3 - 1:\n",
    "    size = int(size / 1024**3) + 1\n",
    "    postfix = 'ГБ'\n",
    "elif size > 1024**2 - 1:\n",
    "    size = int(size / 1024**2) + 1\n",
    "    postfix = 'МБ'\n",
    "elif size > 1023:\n",
    "    size = int(size / 1024) + 1\n",
    "    postfix = 'КБ'\n",
    "else:\n",
    "    postfix = 'Б'\n",
    "print(str(size) + postfix)"
   ]
  },
  {
   "cell_type": "markdown",
   "metadata": {},
   "source": [
    "Режимы открытия файлов в Python:\n",
    "'r' : Чтение (по умолчанию).\n",
    "'w' : Запись. Перезаписывает файл, если он существует, создает, если не существует.\n",
    "'a' : Добавление. Записывает данные в конец файла.\n",
    "'x' : Создание. Создает файл, выдает ошибку, если он уже существует.\n",
    "'b' : Двоичный режим. Для нетекстовых файлов (изображения, аудио и т.д.)\n",
    "'t' : Текстовый режим (по умолчанию). Для текстовых файлов.\n",
    "'+' : Чтение и запись."
   ]
  }
 ],
 "metadata": {
  "kernelspec": {
   "display_name": ".venv",
   "language": "python",
   "name": "python3"
  },
  "language_info": {
   "codemirror_mode": {
    "name": "ipython",
    "version": 3
   },
   "file_extension": ".py",
   "mimetype": "text/x-python",
   "name": "python",
   "nbconvert_exporter": "python",
   "pygments_lexer": "ipython3",
   "version": "3.11.7"
  }
 },
 "nbformat": 4,
 "nbformat_minor": 2
}
