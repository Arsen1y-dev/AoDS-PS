{
 "cells": [
  {
   "cell_type": "markdown",
   "source": [
    "Распечатать текущую директорию."
   ],
   "metadata": {
    "collapsed": false
   },
   "id": "46b6c6946f858769"
  },
  {
   "cell_type": "markdown",
   "source": [],
   "metadata": {
    "collapsed": false
   },
   "id": "3d75ba3b5b9f16c4"
  },
  {
   "cell_type": "code",
   "outputs": [],
   "source": [],
   "metadata": {
    "collapsed": false
   },
   "id": "427716d942892907"
  },
  {
   "cell_type": "markdown",
   "source": [
    "Распечатать логин текущего пользователя операционной системы."
   ],
   "metadata": {
    "collapsed": false
   },
   "id": "417ca1c54e28bd35"
  }
 ],
 "metadata": {
  "kernelspec": {
   "display_name": "Python 3",
   "language": "python",
   "name": "python3"
  },
  "language_info": {
   "codemirror_mode": {
    "name": "ipython",
    "version": 2
   },
   "file_extension": ".py",
   "mimetype": "text/x-python",
   "name": "python",
   "nbconvert_exporter": "python",
   "pygments_lexer": "ipython2",
   "version": "2.7.6"
  }
 },
 "nbformat": 4,
 "nbformat_minor": 5
}
